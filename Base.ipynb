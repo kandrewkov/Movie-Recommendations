{
 "cells": [
  {
   "cell_type": "code",
   "execution_count": 3,
   "metadata": {},
   "outputs": [
    {
     "ename": "NameError",
     "evalue": "name 'get_answer' is not defined",
     "output_type": "error",
     "traceback": [
      "\u001b[0;31m---------------------------------------------------------------------------\u001b[0m",
      "\u001b[0;31mNameError\u001b[0m                                 Traceback (most recent call last)",
      "\u001b[0;32m<ipython-input-3-167ab4786595>\u001b[0m in \u001b[0;36m<module>\u001b[0;34m\u001b[0m\n\u001b[1;32m      9\u001b[0m \u001b[0mshort_data\u001b[0m \u001b[0;34m=\u001b[0m \u001b[0mpd\u001b[0m\u001b[0;34m.\u001b[0m\u001b[0mread_csv\u001b[0m\u001b[0;34m(\u001b[0m\u001b[0;34m'short_data.csv'\u001b[0m\u001b[0;34m,\u001b[0m \u001b[0mindex_col\u001b[0m\u001b[0;34m=\u001b[0m\u001b[0;36m0\u001b[0m\u001b[0;34m)\u001b[0m\u001b[0;34m\u001b[0m\u001b[0;34m\u001b[0m\u001b[0m\n\u001b[1;32m     10\u001b[0m \u001b[0;34m\u001b[0m\u001b[0m\n\u001b[0;32m---> 11\u001b[0;31m \u001b[0manswer\u001b[0m \u001b[0;34m=\u001b[0m \u001b[0mget_answer\u001b[0m\u001b[0;34m(\u001b[0m\u001b[0;34m)\u001b[0m\u001b[0;34m\u001b[0m\u001b[0;34m\u001b[0m\u001b[0m\n\u001b[0m\u001b[1;32m     12\u001b[0m \u001b[0;31m# answer = np.array(data[movies['name_rus'] == '47 ронинов'])\u001b[0m\u001b[0;34m\u001b[0m\u001b[0;34m\u001b[0m\u001b[0;34m\u001b[0m\u001b[0m\n\u001b[1;32m     13\u001b[0m \u001b[0mneigh\u001b[0m \u001b[0;34m=\u001b[0m \u001b[0mNearestNeighbors\u001b[0m\u001b[0;34m(\u001b[0m\u001b[0;34m)\u001b[0m\u001b[0;34m\u001b[0m\u001b[0;34m\u001b[0m\u001b[0m\n",
      "\u001b[0;31mNameError\u001b[0m: name 'get_answer' is not defined"
     ]
    }
   ],
   "source": [
    "from sklearn.neighbors import NearestNeighbors\n",
    "import pandas as pd\n",
    "import numpy as np\n",
    "import json\n",
    "\n",
    "\n",
    "movies = pd.read_csv('preproc_movies_nobudget.csv', index_col=0)\n",
    "data = movies.drop(['Unnamed: 0.1', 'movie_duration','kp_rating', 'kp_rating_count', 'movie_year','imdb_rating', 'imdb_rating_count',  'movie_id', 'name_rus', 'name_eng', 'critics_rating'], axis=1)\n",
    "short_data = pd.read_csv('short_data.csv', index_col=0)\n",
    "\n",
    "answer = get_answer()\n",
    "# answer = np.array(data[movies['name_rus'] == '47 ронинов'])\n",
    "neigh = NearestNeighbors()\n",
    "neigh.fit(data)\n",
    "indexs = neigh.kneighbors(answer.reshape(1, -1), 5, return_distance=False)\n",
    "short_data.iloc[indexs[0]]['name_rus']\n",
    "\n",
    "short_data.iloc[indexs[0]].to_json('prediction.json')\n"
   ]
  },
  {
   "cell_type": "code",
   "execution_count": 6,
   "metadata": {},
   "outputs": [
    {
     "data": {
      "text/plain": [
       "(21204, 90)"
      ]
     },
     "execution_count": 6,
     "metadata": {},
     "output_type": "execute_result"
    }
   ],
   "source": [
    "data.shape"
   ]
  },
  {
   "cell_type": "code",
   "execution_count": 7,
   "metadata": {},
   "outputs": [
    {
     "data": {
      "text/plain": [
       "array([0., 1., 0., 0., 1., 0., 0., 0., 0., 0., 0., 0., 0., 0., 0., 0., 0.,\n",
       "       0., 0., 0., 1., 0., 0., 0., 0., 0., 0., 1., 0., 0., 0., 0., 0., 0.,\n",
       "       0., 0., 0., 0., 0., 0., 1., 0., 0., 0., 0., 0., 0., 0., 0., 0., 0.,\n",
       "       0., 0., 0., 0., 0., 0., 0., 0., 0., 0., 0., 0., 0., 0., 0., 0., 0.,\n",
       "       0., 0., 0., 0., 0., 0., 0., 0., 0., 0., 0., 0., 0., 0., 0., 0., 0.,\n",
       "       0., 0., 0., 0., 0.])"
      ]
     },
     "execution_count": 7,
     "metadata": {},
     "output_type": "execute_result"
    }
   ],
   "source": [
    "np.array(data.iloc[1])"
   ]
  },
  {
   "cell_type": "code",
   "execution_count": null,
   "metadata": {},
   "outputs": [],
   "source": [
    "import pandas as pd\n",
    "import numpy as np\n",
    "import json\n",
    "\n",
    "\n",
    "class Creator:\n",
    "\n",
    "    def __init__(a=1, b=1):\n",
    "        \"\"\"\n",
    "        def get_answer(a,b)\n",
    "            return np.array = a*mean(movies) + b*test\n",
    "        \"\"\"\n",
    "        self.a = a\n",
    "        self.b = b\n",
    "        \n",
    "        with open('example.json', 'r') as myfile:\n",
    "            jdata=myfile.read()\n",
    "        self.obj = json.loads(jdata) # parse file\n",
    "        \n",
    "#       подбор фильма не для себя\n",
    "        self.for_another = bool(self.obj['for_another'])\n",
    "        data = pd.read_csv('data.csv')\n",
    "        self.enum_columns = {anglphbt = {k: v for v, k in enumerate(data.columns)}\n",
    "        if self.for_anoter:\n",
    "            self.vector = np.zeros_like(data.iloc[1])\n",
    "            self.visited_indexs = []\n",
    "            self.rate_count = 0\n",
    "        else:\n",
    "            user_id = int(self.obj['user_id'])\n",
    "#             Загружать из бд\n",
    "            self.vector = None\n",
    "            self.visited_indexs = None\n",
    "            self.rate_count = None\n",
    "            \n",
    "        self.test_movies_id = self.obj['test_movies_id']\n",
    "        self.test_movies_rates = self.obj['test_movies_id']\n",
    "        self.liked_counties = self.obj['liked_counties']\n",
    "        self.disliked_counties = self.obj['disliked_counties']\n",
    "        self.liked_genres = self.obj['liked_counties']\n",
    "        self.disliked_genres = self.obj['disliked_counties']\n",
    "\n",
    "        \n",
    "    def fill_by_movies(movies_id):\n",
    "         \"\"\"open json with rated movies from user fill time, age, rating, \"\"\"\n",
    "        \n",
    "        n = 0\n",
    "        data = pd.read_csv('data.csv')\n",
    "        result = np.zeros_like(self.vector)\n",
    "        \n",
    "        for id, rate in zip(self.test_movies_id, self.test_movies_rates):\n",
    "            movie_vec = np.array(data.iloc[id])\n",
    "            if rate > 3: \n",
    "                result += (rate-3) * movie_vec\n",
    "                n += rate-3\n",
    "            else:\n",
    "                result -= (3-rate) * movie_vec\n",
    "                n += 3-rate\n",
    "\n",
    "        answer = result/n\n",
    "    \n",
    "    def fill_by_test():\n",
    "        \"\"\"open json from user_test\n",
    "        fill genres, country, and other binary features\"\"\"\n",
    "        \n",
    "        result = np.zeros_like(self.vector)\n",
    "        for genre in self.liked_genres:\n",
    "            ind = self.enum_columns[genre]\n",
    "            result[ind] = 1\n",
    "         \n",
    "        for genre in self.disliked_genres:\n",
    "            ind = self.enum_columns[genre]\n",
    "            result[ind] = -1\n",
    "        \n",
    "        for country in self.liked_countries:\n",
    "            ind = self.enum_columns[genre]\n",
    "            result[ind] = 1\n",
    "         \n",
    "        for genre in self.disliked_contries:\n",
    "            ind = self.enum_columns[genre]\n",
    "            result[ind] = -1\n",
    "                             \n",
    "        return result\n",
    "        \n",
    "                             \n",
    "        \n",
    "    def get_answer():\n",
    "        \"\"\"\n",
    "        Get info from json by user \n",
    "        return np.array = a*mean(movies) + b*test\n",
    "        \"\"\"\n",
    "        movies_id = []\n",
    "        self.vector = self.a * self.fill_by_movies(movies_id)\n",
    "        self.vector += self.b * self.fill_by_test()\n",
    "        return self.answer/(self.a + self.b)\n"
   ]
  }
 ],
 "metadata": {
  "kernelspec": {
   "display_name": "Python 3",
   "language": "python",
   "name": "python3"
  },
  "language_info": {
   "codemirror_mode": {
    "name": "ipython",
    "version": 3
   },
   "file_extension": ".py",
   "mimetype": "text/x-python",
   "name": "python",
   "nbconvert_exporter": "python",
   "pygments_lexer": "ipython3",
   "version": "3.7.3"
  }
 },
 "nbformat": 4,
 "nbformat_minor": 2
}
